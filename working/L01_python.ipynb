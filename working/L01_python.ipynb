{
 "cells": [
  {
   "cell_type": "markdown",
   "metadata": {},
   "source": [
    "## Q11: Rock-Paper-Scissors\n",
    "\n",
    "Implement a set of games of rock-paper-scissors against the computer.  \n",
    "\n",
    "  * Ask for input from the user (\"rock\", \"paper\", or \"scissors\") and the randomly select one of these for the computer's play.\n",
    "  * Announce who won.\n",
    "  * Keep playing until a player says that they no longer want to play.\n",
    "  * When all games are done, print out how many games were won by the player and by the computer "
   ]
  },
  {
   "cell_type": "code",
   "execution_count": null,
   "metadata": {},
   "outputs": [],
   "source": [
    "import random\n",
    "\n",
    "user_wins = 0\n",
    "computer_wins = 0\n",
    "wants_to_play = True\n",
    "\n",
    "choices = {\"rock\": 1, \"paper\": 2, \"scissors\": 3}\n",
    "options = list(choices.keys())\n",
    "results = [[0, -1, 1], [1, 0, -1], [-1, 1, 0]]\n",
    "exit_character = \"q\"\n",
    "\n",
    "def get_user_choice():\n",
    "    while True:\n",
    "        user_choice = input(f\"Make your choice ({exit_character} to quit): \")\n",
    "        if user_choice not in options + [exit_character]:\n",
    "            print(f\"Please choose between {options} or {exit_character} to quit.\")\n",
    "        else:\n",
    "            return user_choice\n",
    "\n",
    "while True:\n",
    "    user_choice = get_user_choice()\n",
    "\n",
    "    if user_choice == exit_character:\n",
    "        break\n",
    "\n",
    "    user_id = choices[user_choice]\n",
    "    computer_choice = random.choice(options)\n",
    "    computer_id = choices[computer_choice]\n",
    "\n",
    "    print(\"Computer chose \" + computer_choice)\n",
    "\n",
    "    if user_id == computer_id:\n",
    "        print(\"It's a draw!\\n\")\n",
    "    elif (user_id - computer_id) % 3 == 1:\n",
    "        print(\"You win!\\n\")\n",
    "        user_wins += 1\n",
    "    else:\n",
    "        print(\"Computer wins!\\n\")\n",
    "        computer_wins += 1\n",
    "\n",
    "\n",
    "print(\"\\n\\nFINAL SCORES\\n------------\")\n",
    "print(f\"You: {user_wins}\")\n",
    "print(f\"Computer: {computer_wins}\")\n"
   ]
  },
  {
   "cell_type": "markdown",
   "metadata": {},
   "source": [
    "## Q12: Pascal's triangle\n",
    "\n",
    "Pascal's triangle is created such that each layer has 1 more element than the previous, with `1`s on the side and in the interior, the numbers are the sum of the two above it, e.g.,:\n",
    "```\n",
    "            1\n",
    "          1   1\n",
    "        1   2   1\n",
    "      1   3   3   1\n",
    "    1   4   6   4   1\n",
    "  1   5   10  10  5   1\n",
    "```\n",
    "\n",
    "1. Write a function to return the first `n` rows of Pascal's triangle.  The return should be a list of length `n`, with each element itself a list containing the numbers for that row.\n",
    "2. Write a function to print out Pascal's triangle with proper formatting, so the numbers in each row are centered between the ones in the row above"
   ]
  },
  {
   "cell_type": "code",
   "execution_count": null,
   "metadata": {},
   "outputs": [],
   "source": [
    "from math import comb\n",
    "\n",
    "def pascal_triangle(n):\n",
    "    triangle = []\n",
    "    for i in range(n):\n",
    "        triangle.append([comb(i, k) for k in range(i+1)])\n",
    "    return triangle\n",
    "\n",
    "def print_pascal_triangle(triangle):\n",
    "    N = len(triangle)\n",
    "    Lmax = len(str(triangle[-1][int(N/2)]))\n",
    "    single_width = round(Lmax/2) * 2 + 2 # only even values\n",
    "    full_width = single_width * len(triangle[-1])\n",
    "    for row in triangle:\n",
    "        print_row = ''.join([str(i).ljust(single_width) for i in row])\n",
    "        print(print_row.center(full_width))\n",
    "\n",
    "\n",
    "print_pascal_triangle(pascal_triangle(13))\n"
   ]
  },
  {
   "cell_type": "code",
   "execution_count": null,
   "metadata": {},
   "outputs": [],
   "source": []
  }
 ],
 "metadata": {
  "kernelspec": {
   "display_name": "baynesenv",
   "language": "python",
   "name": "baynesenv"
  },
  "language_info": {
   "codemirror_mode": {
    "name": "ipython",
    "version": 3
   },
   "file_extension": ".py",
   "mimetype": "text/x-python",
   "name": "python",
   "nbconvert_exporter": "python",
   "pygments_lexer": "ipython3",
   "version": "3.10.12"
  }
 },
 "nbformat": 4,
 "nbformat_minor": 4
}
