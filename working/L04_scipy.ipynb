{
 "cells": [
  {
   "cell_type": "code",
   "execution_count": null,
   "metadata": {},
   "outputs": [],
   "source": [
    "import numpy as np\n",
    "import matplotlib.pyplot as plt\n",
    "from matplotlib.widgets import Button, Slider\n",
    "from scipy import integrate\n",
    "from scipy.fft import rfft\n",
    "from functools import partial"
   ]
  },
  {
   "cell_type": "markdown",
   "metadata": {},
   "source": [
    "## Q6: Damped driven pendulum and chaos"
   ]
  },
  {
   "cell_type": "markdown",
   "metadata": {},
   "source": [
    "There are a large class of ODE integration methods available through the `scipy.integrate.ode()` function.  Not all of them provide _dense output_ -- most will just give you the value at the end of the integration.  \n",
    "\n",
    "The explicit Runge-Kutta integrator will give you access to the solution at intermediate points and provides methods to interpolate to any value.  You enable this via `dense_output=True`.\n",
    "\n",
    "The damped driven pendulum obeys the following equations:\n",
    "\n",
    "$$\\dot{\\theta} = \\omega$$\n",
    "\n",
    "$$\\dot{\\omega} = -q \\omega - \\sin \\theta + b \\cos \\omega_d t$$\n",
    "\n",
    "here, $\\theta$ is the angle of the pendulum from vertical and $\\omega$ is the angular velocity.  $q$ is a damping coefficient, $b$ is a forcing amplitude, and $\\omega_d$ is a driving frequency.\n",
    "\n",
    "Choose $q = 0.5$ and $\\omega_d = 2/3$.\n",
    "\n",
    "Integrate the system for different values of $b$ (start with $b = 0.9$ and increase by $0.05$, and plot the results ($\\theta$ vs. $t$).  Here's a RHS function to get you started:"
   ]
  },
  {
   "cell_type": "code",
   "execution_count": null,
   "metadata": {},
   "outputs": [],
   "source": [
    "def rhs(t, Y, q, omega_d, b):\n",
    "        \"\"\" damped driven pendulum system derivatives.  Here, Y = (theta, omega) are\n",
    "        the solution variables. \"\"\"\n",
    "        f = np.zeros_like(Y)\n",
    "\n",
    "        f[0] = Y[1]\n",
    "        f[1] = -q*Y[1] - np.sin(Y[0]) + b*np.cos(omega_d*t)\n",
    "\n",
    "        return f"
   ]
  },
  {
   "cell_type": "markdown",
   "metadata": {},
   "source": [
    "Note that the pendulum can flip over, giving values of $\\theta$ outside of $[-\\pi, \\pi]$.  The following function can be used to restrict it back to $[-\\pi, \\pi]$ for plotting."
   ]
  },
  {
   "cell_type": "code",
   "execution_count": null,
   "metadata": {},
   "outputs": [],
   "source": [
    "def restrict_theta(theta):\n",
    "    \"\"\" convert theta to be restricted to lie between -pi and pi\"\"\"\n",
    "    tnew = theta + np.pi\n",
    "    tnew += -2.0*np.pi*np.floor(tnew/(2.0*np.pi))\n",
    "    tnew -= np.pi\n",
    "    return tnew"
   ]
  },
  {
   "cell_type": "markdown",
   "metadata": {},
   "source": [
    "Write a function that takes an initial angle, $\\theta_0$, and integrates the system and returns the solution.\n",
    "\n",
    "Note, the righthand side function, `rhs`, takes additional arguments that you need to pass through the integrator.  The preferred method to do this with the `solve_ivp()` interface appears to be to use `functools.partial()`, as:\n",
    "```\n",
    "from functools import partial\n",
    "\n",
    "r = solve_ivp(partial(rhs, q=q, omega_d=omega_d, b=b), ...)\n",
    "```\n",
    "\n",
    "Some values of $b$ will show very non-periodic behavior.  To see chaos, integrate two different pendula that are the same except for $\\theta_0$, with only a small difference between then (like 60 degrees and 60.0001 degrees.  You'll see the solutions track for a while, but then diverge."
   ]
  },
  {
   "cell_type": "code",
   "execution_count": null,
   "metadata": {},
   "outputs": [],
   "source": [
    "def restrict_theta(theta):\n",
    "    \"\"\" convert theta to be restricted to lie between -pi and pi\"\"\"\n",
    "    tnew = theta + np.pi\n",
    "    tnew += -2.0*np.pi*np.floor(tnew/(2.0*np.pi))\n",
    "    tnew -= np.pi\n",
    "    return tnew\n",
    "\n",
    "def rhs(t, Y, q, omega_d, b):\n",
    "        \"\"\" damped driven pendulum system derivatives.  Here, Y = (theta, omega) are\n",
    "        the solution variables. \"\"\"\n",
    "        f = np.zeros_like(Y)\n",
    "\n",
    "        f[0] = Y[1]\n",
    "        f[1] = -q*Y[1] - np.sin(Y[0]) + b*np.cos(omega_d*t)\n",
    "\n",
    "        return f\n",
    "\n",
    "def ddp_integrate(theta0, q=0.5, omega_d=2/3, b=0.9, dt=0.05, tmax=200):\n",
    "    \"\"\"integrate the damped driven pendulum systemm using the VODE method.\"\"\"\n",
    "\n",
    "    r = integrate.solve_ivp(\n",
    "        partial(rhs, q=q, omega_d=omega_d, b=b),\n",
    "        (0.0, tmax),\n",
    "        [theta0, 0],\n",
    "        method=\"RK45\",\n",
    "        dense_output=True,\n",
    "    )\n",
    "\n",
    "    ts = np.arange(0.0, tmax, dt)\n",
    "    Xs = r.sol(ts)\n",
    "    Xs[0] = restrict_theta(Xs[0])\n",
    "    return ts, Xs"
   ]
  },
  {
   "cell_type": "code",
   "execution_count": null,
   "metadata": {},
   "outputs": [],
   "source": [
    "%matplotlib inline\n",
    "bs = np.arange(0.9, 1.4, 0.05)\n",
    "theta0 = 0.5\n",
    "tmax = 200\n",
    "\n",
    "f, ax = plt.subplots(len(bs), 1, figsize=(10, 10))\n",
    "\n",
    "for i, b in enumerate(bs):\n",
    "    ts, Xs = ddp_integrate(theta0, b=b, tmax=tmax)\n",
    "    ax[i].plot(ts, Xs[0])\n",
    "    ts, Xs = ddp_integrate(theta0 + 0.0001, b=b, tmax=tmax)\n",
    "    ax[i].plot(ts, Xs[0], zorder=0)\n",
    "    ax[i].text(tmax + 3, 0, f\"b = {b:0.2f}\")\n",
    "    ax[i].set_xlim(0, tmax)\n",
    "    ax[i].set_ylabel(r\"$\\theta$\")\n",
    "    if i < len(bs) - 1:\n",
    "        ax[i].set_xticklabels([])\n",
    "\n",
    "ax[-1].set_xlabel(\"t [s]\")"
   ]
  },
  {
   "cell_type": "markdown",
   "metadata": {},
   "source": [
    "## Q8: FFT of the chaotic pendulum\n",
    "\n",
    "In Q6 we looked at ODEs and the chaotic pendulum, and were interested in writing a method to integrate the pendulum in time.\n",
    "\n",
    "Here we want to examine its behavior in frequency space.  The code below will integrate the chaotic pendulum, while requesting that the solution be stored at points spaced with a fixed dt, which makes it suitable for taking the FFT."
   ]
  },
  {
   "cell_type": "code",
   "execution_count": null,
   "metadata": {},
   "outputs": [],
   "source": [
    "from functools import partial\n",
    "from scipy.integrate import solve_ivp\n",
    "\n",
    "def rhs(t, Y, q, omega_d, b):\n",
    "    \"\"\" damped driven pendulum system derivatives.  Here, Y = (theta, omega) are\n",
    "        the solution variables. \"\"\"\n",
    "    f = np.zeros_like(Y)\n",
    "\n",
    "    f[0] = Y[1]\n",
    "    f[1] = -q*Y[1] - np.sin(Y[0]) + b*np.cos(omega_d*t)\n",
    "\n",
    "    return f\n",
    "\n",
    "def restrict_theta(theta):\n",
    "    \"\"\" convert theta to be restricted to lie between -pi and pi\"\"\"\n",
    "    tnew = theta + np.pi\n",
    "    tnew += -2.0*np.pi*np.floor(tnew/(2.0*np.pi))\n",
    "    tnew -= np.pi\n",
    "    return tnew\n",
    "\n",
    "def int_pendulum(theta0, q, omega_d, b, tend, dt):\n",
    "    \"\"\" integrate the pendulum and return solution with dt\"\"\"\n",
    "\n",
    "    # points in time where we'll request the solution\n",
    "    tpoints = np.arange(0.0, tend, dt)\n",
    "\n",
    "    r = solve_ivp(partial(rhs, q=q, omega_d=omega_d, b=b),\n",
    "                  [0.0, tend], [theta0, 0.0],\n",
    "                  method='RK45', t_eval=tpoints)\n",
    "\n",
    "    return r.t, r.y"
   ]
  },
  {
   "cell_type": "markdown",
   "metadata": {},
   "source": [
    "The call below will give an undamped pendulum.  For a small amplitude, since we have $L = g$ in our pendulum, the period is simply $T = 2\\pi$, and the frequency is $\\nu_k = 1/(2\\pi)$.  We plot things in terms of angular frequency, $\\omega_k = 2\\pi \\nu_k$, so all the power will be at $\\omega_k = 1$."
   ]
  },
  {
   "cell_type": "code",
   "execution_count": null,
   "metadata": {},
   "outputs": [],
   "source": [
    "t, y = int_pendulum(np.radians(10), 0.0, 0.6666, 0.0, 200.0, 0.1)"
   ]
  },
  {
   "cell_type": "markdown",
   "metadata": {},
   "source": [
    "Your task is to complete the power spectrum routine below to calculate the FFT of theta and plot it.  Experiment with the damping and driving parameters to see the complexity of the pendulum in frequency space when it becomes chaotic.  For reference, here's a plot of the solution theta"
   ]
  },
  {
   "cell_type": "code",
   "execution_count": null,
   "metadata": {},
   "outputs": [],
   "source": [
    "plt.plot(t, restrict_theta(y[0,:]))\n",
    "plt.xlabel(\"t\")\n",
    "plt.ylabel(r\"$\\theta$\")"
   ]
  },
  {
   "cell_type": "code",
   "execution_count": null,
   "metadata": {},
   "outputs": [],
   "source": [
    "def power_spectrum(t, theta0):\n",
    "    \"\"\"Return the power spectrum of theta wtih the frequency component in terms of omega.\"\"\"\n",
    "    theta = restrict_theta(theta0)\n",
    "    freqs = np.linspace(0, 1/(2*(t[1]-t[0])), int(len(t)/2)+1)\n",
    "    omega = 2 * np.pi * freqs\n",
    "    pwr = np.abs(rfft(theta)) ** 2\n",
    "    return omega, pwr"
   ]
  },
  {
   "cell_type": "code",
   "execution_count": null,
   "metadata": {},
   "outputs": [],
   "source": [
    "%matplotlib notebook\n",
    "from matplotlib.widgets import Button, Slider\n",
    "\n",
    "init_q = 0.\n",
    "init_b = 0.\n",
    "\n",
    "fig, ax = plt.subplots(num=\"DDpendulum power spectrum\")\n",
    "t, y = int_pendulum(np.radians(10), init_q, 0.6666, init_b, 200.0, 0.1)\n",
    "(line,) = ax.plot(*power_spectrum(t, y[0]), lw=2)\n",
    "ax.set_xlabel(\"$\\omega$ [rad/s]\")\n",
    "ax.set_ylabel(\"PSD [1/Hz]\")\n",
    "ax.set_yscale(\"log\")\n",
    "ax.set_ylim(1e-2, 1e7)\n",
    "ax.grid()\n",
    "\n",
    "fig.subplots_adjust(left=0.25, bottom=0.25)\n",
    "\n",
    "axq = fig.add_axes([0.25, 0.9, 0.65, 0.03])\n",
    "q_slider = Slider(\n",
    "    ax=axq,\n",
    "    label=\"q (damping)\",\n",
    "    valmin=0.0,\n",
    "    valmax=5,\n",
    "    valinit=init_q,\n",
    ")\n",
    "\n",
    "axb = fig.add_axes([0.25, 0.95, 0.65, 0.03])\n",
    "b_slider = Slider(\n",
    "    ax=axb,\n",
    "    label=\"b (forcing amplitude)\",\n",
    "    valmin=0,\n",
    "    valmax=5,\n",
    "    valinit=init_b,\n",
    ")\n",
    "\n",
    "\n",
    "def update(val):\n",
    "    t, y = int_pendulum(np.radians(10), q_slider.val, 0.6666, b_slider.val, 200.0, 0.1)\n",
    "    line.set_ydata(power_spectrum(t, y[0])[1])\n",
    "    fig.canvas.draw_idle()\n",
    "\n",
    "\n",
    "b_slider.on_changed(update)\n",
    "q_slider.on_changed(update)\n",
    "\n",
    "resetax = fig.add_axes([0.8, 0.1, 0.1, 0.04])\n",
    "button = Button(resetax, \"Reset\", hovercolor=\"0.975\")\n",
    "\n",
    "\n",
    "def reset(event):\n",
    "    b_slider.reset()\n",
    "    q_slider.reset()\n",
    "\n",
    "button.on_clicked(reset)\n",
    "plt.show()"
   ]
  }
 ],
 "metadata": {
  "kernelspec": {
   "display_name": "baynesenv",
   "language": "python",
   "name": "baynesenv"
  },
  "language_info": {
   "codemirror_mode": {
    "name": "ipython",
    "version": 3
   },
   "file_extension": ".py",
   "mimetype": "text/x-python",
   "name": "python",
   "nbconvert_exporter": "python",
   "pygments_lexer": "ipython3",
   "version": "3.10.12"
  }
 },
 "nbformat": 4,
 "nbformat_minor": 4
}
